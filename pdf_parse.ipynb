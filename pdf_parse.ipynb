{
 "cells": [
  {
   "cell_type": "code",
   "execution_count": 84,
   "metadata": {},
   "outputs": [],
   "source": [
    "import pdfplumber\n",
    "import re\n",
    "import pandas as pd"
   ]
  },
  {
   "cell_type": "code",
   "execution_count": 5,
   "metadata": {},
   "outputs": [
    {
     "name": "stdout",
     "output_type": "stream",
     "text": [
      "Ashmil K\n",
      "LinkedIn | GitHub | Email: ashmilk114@gmail.com | Mobile: +919061848862\n",
      "FULL STACK DEVELOPER\n",
      "I'm a Python Full-stack Developer with skills in Python, JavaScript, TypeScript, and React Js. I'm adept at\n",
      "managing tasks and completing projects on time, always striving for the highest standards of quality.\n",
      "TECHNICAL SKILLS\n",
      "Languages : Python , JavaScript , TypeScript , HTML, CSS\n",
      "Frameworks : Django , Flask, Rest API ,Tailwind UI\n",
      "Libraries : React Js , Numpy , Pandas\n",
      "Deployment : PythonAnyWhere, Vercel , Netlify\n",
      "Dev Tools : Git , Postman , Figma , VS Code\n",
      "PROJECTS AND PERSONAL EXPERIENCE\n",
      "Portfolio Sourece Code\n",
      "React Js and Tailwind CSS\n",
      "Developed a personal portfolio using React Js and Tailwind CSS\n",
      "This project is deployed on Vercel [demo]\n",
      "Blood-Bank-Website Sourece Code\n",
      "React Js ,Tailwind CSS , Djnago and REST API\n",
      "Developed a Blood Donation Website with Frontend in React Js & Backend in Django\n",
      "Worked with REST APIs and MVC\n",
      "Deep-Learning-Model-For-Detecting-Diseases-In-Tea-Leaves Sourece Code\n",
      "Flask , Machine Learning\n",
      "Developed a Machine Learning Project for Detecting Diseases in Tea leaves\n",
      "By using Some ML Libraries (Numpy,Pandas,Tensorflow ) & Flask\n",
      "Freelance And Works\n",
      "React Js , Django\n",
      "Focusmep [demo]\n",
      "More project : visit my github profile\n",
      "Vidyalinks [demo]\n",
      "WORK EXPERIENCE\n",
      "Full Stack Developer Trainee Present\n",
      "Django with React Js\n",
      "Zyfarer Innovations Manjeri\n",
      "EDUCATION\n",
      "Bachelor Of Engineering 2020 - 2024\n",
      "Computer Science and Engineering\n",
      "Anna University\n"
     ]
    }
   ],
   "source": [
    "with pdfplumber.open('Ashmil_Resume.pdf') as pdf:\n",
    "    for page in pdf.pages:\n",
    "        text = page.extract_text()\n",
    "        print(text)"
   ]
  },
  {
   "cell_type": "code",
   "execution_count": 101,
   "metadata": {},
   "outputs": [
    {
     "data": {
      "text/plain": [
       "[['Languages ', ' Python , JavaScript , TypeScript , HTML, CSS'],\n",
       " ['Frameworks ', ' Django , Flask, Rest API ,Tailwind UI'],\n",
       " ['Libraries ', ' React Js , Numpy , Pandas'],\n",
       " ['Deployment ', ' PythonAnyWhere, Vercel , Netlify'],\n",
       " ['Dev Tools ', ' Git , Postman , Figma , VS Code']]"
      ]
     },
     "execution_count": 101,
     "metadata": {},
     "output_type": "execute_result"
    }
   ],
   "source": [
    "# Extract Skills \n",
    "\n",
    "pattern = r':[\\s\\w\\s?]+,[\\s\\w\\s?]+'\n",
    "skills = []\n",
    "\n",
    "for t in text.split('\\n'):\n",
    "    if re.search(pattern, t):\n",
    "        skill =t.split(':') \n",
    "        skills.append([s for s in skill])  \n",
    "\n",
    "skills"
   ]
  },
  {
   "cell_type": "code",
   "execution_count": 109,
   "metadata": {},
   "outputs": [
    {
     "data": {
      "text/html": [
       "<div>\n",
       "<style scoped>\n",
       "    .dataframe tbody tr th:only-of-type {\n",
       "        vertical-align: middle;\n",
       "    }\n",
       "\n",
       "    .dataframe tbody tr th {\n",
       "        vertical-align: top;\n",
       "    }\n",
       "\n",
       "    .dataframe thead th {\n",
       "        text-align: right;\n",
       "    }\n",
       "</style>\n",
       "<table border=\"1\" class=\"dataframe\">\n",
       "  <thead>\n",
       "    <tr style=\"text-align: right;\">\n",
       "      <th></th>\n",
       "      <th></th>\n",
       "      <th>skills</th>\n",
       "    </tr>\n",
       "  </thead>\n",
       "  <tbody>\n",
       "    <tr>\n",
       "      <th>0</th>\n",
       "      <td>Languages</td>\n",
       "      <td>Python , JavaScript , TypeScript , HTML, CSS</td>\n",
       "    </tr>\n",
       "    <tr>\n",
       "      <th>1</th>\n",
       "      <td>Frameworks</td>\n",
       "      <td>Django , Flask, Rest API ,Tailwind UI</td>\n",
       "    </tr>\n",
       "    <tr>\n",
       "      <th>2</th>\n",
       "      <td>Libraries</td>\n",
       "      <td>React Js , Numpy , Pandas</td>\n",
       "    </tr>\n",
       "    <tr>\n",
       "      <th>3</th>\n",
       "      <td>Deployment</td>\n",
       "      <td>PythonAnyWhere, Vercel , Netlify</td>\n",
       "    </tr>\n",
       "    <tr>\n",
       "      <th>4</th>\n",
       "      <td>Dev Tools</td>\n",
       "      <td>Git , Postman , Figma , VS Code</td>\n",
       "    </tr>\n",
       "  </tbody>\n",
       "</table>\n",
       "</div>"
      ],
      "text/plain": [
       "                                                       skills\n",
       "0   Languages    Python , JavaScript , TypeScript , HTML, CSS\n",
       "1  Frameworks           Django , Flask, Rest API ,Tailwind UI\n",
       "2   Libraries                       React Js , Numpy , Pandas\n",
       "3  Deployment                PythonAnyWhere, Vercel , Netlify\n",
       "4   Dev Tools                 Git , Postman , Figma , VS Code"
      ]
     },
     "execution_count": 109,
     "metadata": {},
     "output_type": "execute_result"
    }
   ],
   "source": [
    "df = pd.DataFrame(skills,columns=['','skills'])\n",
    "df"
   ]
  },
  {
   "cell_type": "code",
   "execution_count": 110,
   "metadata": {},
   "outputs": [],
   "source": [
    "df.to_csv('skills_data.csv')"
   ]
  },
  {
   "cell_type": "code",
   "execution_count": null,
   "metadata": {},
   "outputs": [],
   "source": []
  }
 ],
 "metadata": {
  "kernelspec": {
   "display_name": "Python 3",
   "language": "python",
   "name": "python3"
  },
  "language_info": {
   "codemirror_mode": {
    "name": "ipython",
    "version": 3
   },
   "file_extension": ".py",
   "mimetype": "text/x-python",
   "name": "python",
   "nbconvert_exporter": "python",
   "pygments_lexer": "ipython3",
   "version": "3.10.12"
  }
 },
 "nbformat": 4,
 "nbformat_minor": 2
}
